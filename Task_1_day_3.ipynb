{
  "nbformat": 4,
  "nbformat_minor": 0,
  "metadata": {
    "colab": {
      "name": "Task_1_day_3.ipynb",
      "provenance": [],
      "collapsed_sections": [],
      "authorship_tag": "ABX9TyOae6w6pS8NfQtFhnPghB7+",
      "include_colab_link": true
    },
    "kernelspec": {
      "name": "python3",
      "display_name": "Python 3"
    },
    "language_info": {
      "name": "python"
    }
  },
  "cells": [
    {
      "cell_type": "markdown",
      "metadata": {
        "id": "view-in-github",
        "colab_type": "text"
      },
      "source": [
        "<a href=\"https://colab.research.google.com/github/Bochaberii/Group-18-plp-hackathon/blob/main/Task_1_day_3.ipynb\" target=\"_parent\"><img src=\"https://colab.research.google.com/assets/colab-badge.svg\" alt=\"Open In Colab\"/></a>"
      ]
    },
    {
      "cell_type": "code",
      "execution_count": null,
      "metadata": {
        "colab": {
          "base_uri": "https://localhost:8080/"
        },
        "id": "lYy1VRK9XTrf",
        "outputId": "362a370d-ad39-417a-a6cc-faecf60ae5b4"
      },
      "outputs": [
        {
          "output_type": "stream",
          "name": "stdout",
          "text": [
            "Enter the password : 67123\n",
            "Should I open or close the door? open\n",
            "The door is open\n",
            "Should I open or close the door? open\n",
            "The door is already opened\n",
            "Are you done? yes or no yes\n",
            "The process is terminated!\n",
            "Today's date: 2022-07-09\n",
            "Datetime is: 2022-07-09 19:47:54.940664\n",
            "day Name: Sat\n"
          ]
        }
      ],
      "source": [
        "#Actual password\n",
        "key= 67123\n",
        "open = \"The door is now open\" \n",
        "close = \"The door is now closed\"\n",
        "#Prompting the user to enter a password\n",
        "enter = int(input(\"Enter the password : \"))\n",
        "while enter != key:\n",
        "  enter = int(input(\"Try again please : \"))\n",
        "option_1 = \"open\"\n",
        "option_2 = \"close\"\n",
        "first = input(\"Should I open or close the door? \")\n",
        "if first== option_1:\n",
        "  print(\"The door is open\")\n",
        "if first==option_2:\n",
        "  print(\"the door is locked\")\n",
        "first1 = input(\"Should I open or close the door? \")\n",
        "if first1 == option_1:\n",
        "  print(\"The door is already opened\")\n",
        "elif first1 == option_2:\n",
        "  print(\"The door is already locked\")\n",
        "else:\n",
        "  print(\"You pressed an invalid key!!!\")\n",
        "\n",
        "yes = \"yes\"\n",
        "final = input(\"Are you done? yes or no \")\n",
        "if final == yes:\n",
        "  print(\"The process is terminated!\")\n",
        "from datetime import date\n",
        "\n",
        "date = date.today()\n",
        "print(\"Today's date:\", date)\n",
        "from datetime import datetime\n",
        "\n",
        "# get current datetime\n",
        "day = datetime.now()\n",
        "print('Datetime is:', day)\n",
        "\n",
        "# get weekday name\n",
        "print('day Name:', day.strftime('%A')[0:3])\n",
        "\n",
        "\n",
        "\n"
      ]
    },
    {
      "cell_type": "code",
      "source": [
        ""
      ],
      "metadata": {
        "id": "5cnOenNSr-Bl"
      },
      "execution_count": null,
      "outputs": []
    }
  ]
}