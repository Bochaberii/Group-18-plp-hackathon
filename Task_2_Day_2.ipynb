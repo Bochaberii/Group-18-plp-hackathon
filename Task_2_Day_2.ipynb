{
  "nbformat": 4,
  "nbformat_minor": 0,
  "metadata": {
    "colab": {
      "name": "Task 2 :Day 2.ipynb",
      "provenance": [],
      "collapsed_sections": [],
      "authorship_tag": "ABX9TyPRwz0Rod+R3VjqeqkFz4VE",
      "include_colab_link": true
    },
    "kernelspec": {
      "name": "python3",
      "display_name": "Python 3"
    },
    "language_info": {
      "name": "python"
    }
  },
  "cells": [
    {
      "cell_type": "markdown",
      "metadata": {
        "id": "view-in-github",
        "colab_type": "text"
      },
      "source": [
        "<a href=\"https://colab.research.google.com/github/Bochaberii/Group-18-plp-hackathon/blob/main/Task_2_Day_2.ipynb\" target=\"_parent\"><img src=\"https://colab.research.google.com/assets/colab-badge.svg\" alt=\"Open In Colab\"/></a>"
      ]
    },
    {
      "cell_type": "code",
      "source": [
        "#Trying to help the user to evaluate themselves\n",
        "\n",
        "#prompting the user to choose their desired career\n",
        "print('''\n",
        "    1.medicine\n",
        "    2.engineering\n",
        "    3.law\n",
        "''')\n",
        "\n",
        "choice = (input(\"Which career do you prefer? \"))\n",
        "\n",
        "\n",
        "#Prompting the user to ask for advice\n",
        "print('''\n",
        "  What would you rather?\n",
        "   1. Follow your passion\n",
        "   2. Make lots of money\n",
        "   3. Change the world\n",
        "''')\n",
        "choice = (input(\"Choose one please? \"))\n",
        "\n",
        "#Prompting the user to ask questions\n",
        "print('''\n",
        " Choose a burning question\n",
        "  1.Will I regret my course?\n",
        "  2.How much money will i pay?\n",
        "''')\n",
        "\n",
        "choice = (input(\"Choose one please? \"))\n",
        "\n",
        "\n",
        "\n",
        "\n",
        "\n",
        "\n"
      ],
      "metadata": {
        "colab": {
          "base_uri": "https://localhost:8080/"
        },
        "id": "44Of_VJMPHCS",
        "outputId": "f33299b5-d0dd-45bf-e7d4-0c6c425e6af6"
      },
      "execution_count": null,
      "outputs": [
        {
          "name": "stdout",
          "output_type": "stream",
          "text": [
            "\n",
            "    1.medicine\n",
            "    2.engineering\n",
            "    3.law\n",
            "\n",
            "Which career do you prefer? 1\n",
            "\n",
            "  What would you rather?\n",
            "   1. Follow your passion\n",
            "   2. Make lots of money\n",
            "   3. Change the world\n",
            "\n",
            "Choose one please? 2\n",
            "\n",
            " Choose a burning question\n",
            "  1.Will I regret my course?\n",
            "  2.How much money will i pay?\n",
            "\n",
            "Choose one please? 2\n"
          ]
        }
      ]
    },
    {
      "cell_type": "code",
      "execution_count": null,
      "metadata": {
        "colab": {
          "base_uri": "https://localhost:8080/"
        },
        "outputId": "8f954e7a-036b-4948-f769-01c288acd614",
        "id": "JJdJjwt5PH5A"
      },
      "outputs": [
        {
          "name": "stdout",
          "output_type": "stream",
          "text": [
            "Are you good in mathematics? Yes or no?yes\n"
          ]
        }
      ],
      "source": [
        "career = [\"Medicine\",\"Engineering\",\"Law\",\"Business\",\"Accounting and Finance\"]\n",
        "car_advice = [\"Follow your passion\",\"Check your grades!\",\"Network and find connections\",\"Choose a good university\"]\n",
        "car_questions = [\"Grades scored?\",\"Favourite subject?\",\"Are you good in Mathematics?\"]\n",
        "x = input(\"Are you good in mathematics? Yes or no?\")\n",
        "if x  == True:\n",
        "  print(car_advice(1))"
      ]
    },
    {
      "cell_type": "code",
      "source": [
        ""
      ],
      "metadata": {
        "id": "TZGWQ-Zrszr7"
      },
      "execution_count": null,
      "outputs": []
    }
  ]
}