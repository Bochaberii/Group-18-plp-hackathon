{
  "nbformat": 4,
  "nbformat_minor": 0,
  "metadata": {
    "colab": {
      "name": "Task_1_day_1.ipynb",
      "provenance": [],
      "collapsed_sections": [],
      "authorship_tag": "ABX9TyOoNDh4yDc/PC6F46DQrMo2",
      "include_colab_link": true
    },
    "kernelspec": {
      "name": "python3",
      "display_name": "Python 3"
    },
    "language_info": {
      "name": "python"
    }
  },
  "cells": [
    {
      "cell_type": "markdown",
      "metadata": {
        "id": "view-in-github",
        "colab_type": "text"
      },
      "source": [
        "<a href=\"https://colab.research.google.com/github/Bochaberii/Group-18-plp-hackathon/blob/main/Task_1_day_1.ipynb\" target=\"_parent\"><img src=\"https://colab.research.google.com/assets/colab-badge.svg\" alt=\"Open In Colab\"/></a>"
      ]
    },
    {
      "cell_type": "code",
      "source": [
        "#number 1\n",
        "#store a variable date\n",
        "\n",
        "from datetime import date\n",
        "\n",
        "date = date.today()\n",
        "print(\"Today's date:\", date)\n",
        "from datetime import datetime\n",
        "\n",
        "# get current datetime\n",
        "day = datetime.now()\n",
        "print('Datetime is:', day)\n",
        "\n",
        "# get weekday name\n",
        "print('day Name:', day.strftime('%A')[0:3])\n",
        "\n"
      ],
      "metadata": {
        "colab": {
          "base_uri": "https://localhost:8080/"
        },
        "id": "nljZDYPAmn1m",
        "outputId": "46d5a9e5-5f82-4ccc-c1da-887f6c3e8510"
      },
      "execution_count": null,
      "outputs": [
        {
          "output_type": "stream",
          "name": "stdout",
          "text": [
            "Today's date: 2022-07-09\n",
            "Datetime is: 2022-07-09 18:32:04.426656\n",
            "day Name: Sat\n"
          ]
        }
      ]
    },
    {
      "cell_type": "code",
      "source": [
        "week_days = [\"mon\",\"tue\",\"wed\",\"thur\",\"fri\"]\n",
        "week_days = 100\n",
        "sat = 60\n",
        "sun = 80\n",
        "day = (input(\"What day of the week is it?\"))\n",
        "if day == week_days:\n",
        "  print(\"fare is : \",week_days)\n"
      ],
      "metadata": {
        "id": "uBWFPBYibQO0",
        "colab": {
          "base_uri": "https://localhost:8080/"
        },
        "outputId": "527e69b8-d17d-4c3c-a3a1-ff373fb8d47c"
      },
      "execution_count": null,
      "outputs": [
        {
          "name": "stdout",
          "output_type": "stream",
          "text": [
            "What day of the week is it?mon\n"
          ]
        }
      ]
    }
  ]
}