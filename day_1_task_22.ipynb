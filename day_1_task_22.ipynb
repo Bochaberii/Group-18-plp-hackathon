{
  "nbformat": 4,
  "nbformat_minor": 0,
  "metadata": {
    "colab": {
      "name": "day_1_task_22.ipynb",
      "provenance": [],
      "collapsed_sections": [],
      "authorship_tag": "ABX9TyPiZpNbzATtxAIUXLMAFqaO",
      "include_colab_link": true
    },
    "kernelspec": {
      "name": "python3",
      "display_name": "Python 3"
    },
    "language_info": {
      "name": "python"
    }
  },
  "cells": [
    {
      "cell_type": "markdown",
      "metadata": {
        "id": "view-in-github",
        "colab_type": "text"
      },
      "source": [
        "<a href=\"https://colab.research.google.com/github/Bochaberii/Group-18-plp-hackathon/blob/main/day_1_task_22.ipynb\" target=\"_parent\"><img src=\"https://colab.research.google.com/assets/colab-badge.svg\" alt=\"Open In Colab\"/></a>"
      ]
    },
    {
      "cell_type": "code",
      "execution_count": null,
      "metadata": {
        "colab": {
          "base_uri": "https://localhost:8080/"
        },
        "id": "LXy_YnHbYpi1",
        "outputId": "1a150233-8a38-4ddb-e9ad-4d86fb1207e1"
      },
      "outputs": [
        {
          "output_type": "stream",
          "name": "stdout",
          "text": [
            "enter the square ft of wall?230\n",
            "enter price of paint per gallon?87\n",
            "the number of gallons used is 2.0\n",
            "the hours of labour required 16.0\n",
            "the cost of paint is 87\n",
            "the charges for labour is 320.0\n",
            "the total cost 581.0\n"
          ]
        }
      ],
      "source": [
        "#sales tax challenge.\n",
        "#delegating variable x and y .\n",
        "x=int(input(\"enter the square ft of wall?\"))\n",
        "y=int(input(\"enter price of paint per gallon?\"))\n",
        "#delegating a for number of gallons used.\n",
        "a=x/115\n",
        "#delegating b for hours of labour required.\n",
        "b=x*8/115\n",
        "#delegating c for cost of the paint.\n",
        "c=y\n",
        "#delegating d for labour charges.\n",
        "d=b*20.00\n",
        "#delegating e for  the total cost .\n",
        "e=y*a+c+d\n",
        "print(\"the number of gallons used is\",a)\n",
        "print(\"the hours of labour required\",b)\n",
        "print(\"the cost of paint is\",c)\n",
        "print(\"the charges for labour is\",d)\n",
        "print(\"the total cost\",e)"
      ]
    }
  ]
}