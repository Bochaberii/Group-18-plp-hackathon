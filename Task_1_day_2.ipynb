{
  "nbformat": 4,
  "nbformat_minor": 0,
  "metadata": {
    "colab": {
      "name": "Task_1_day_2.ipynb",
      "provenance": [],
      "collapsed_sections": [],
      "authorship_tag": "ABX9TyMO9HqZloLFl5wDdcVJI0XC",
      "include_colab_link": true
    },
    "kernelspec": {
      "name": "python3",
      "display_name": "Python 3"
    },
    "language_info": {
      "name": "python"
    }
  },
  "cells": [
    {
      "cell_type": "markdown",
      "metadata": {
        "id": "view-in-github",
        "colab_type": "text"
      },
      "source": [
        "<a href=\"https://colab.research.google.com/github/Bochaberii/Group-18-plp-hackathon/blob/main/Task_1_day_2.ipynb\" target=\"_parent\"><img src=\"https://colab.research.google.com/assets/colab-badge.svg\" alt=\"Open In Colab\"/></a>"
      ]
    },
    {
      "cell_type": "code",
      "execution_count": null,
      "metadata": {
        "colab": {
          "base_uri": "https://localhost:8080/"
        },
        "id": "VFtrG9lmk2hD",
        "outputId": "0363e1bf-99b3-4f15-cbe3-425b72020e6b"
      },
      "outputs": [
        {
          "output_type": "stream",
          "name": "stdout",
          "text": [
            "How many books did you purchase? 0\n",
            "You earn 0 points!\n"
          ]
        }
      ],
      "source": [
        "#Prompting user for the number of books\n",
        "#Assigning points according to number of books purchased\n",
        "\n",
        "num = int(input(\"How many books did you purchase? \"))\n",
        "if num >= 4:\n",
        "  print(\"You earn 60 points!\")\n",
        "elif num == 3:\n",
        "  print(\"You earn 32 points!\")\n",
        "elif num == 2:\n",
        "  print(\"You earn 16 points!\")\n",
        "elif num == 1:\n",
        "  print(\"You earn 6 points!\")\n",
        "else:\n",
        "  print(\"You earn 0 points!\")"
      ]
    }
  ]
}