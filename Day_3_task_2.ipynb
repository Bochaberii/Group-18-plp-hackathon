{
  "nbformat": 4,
  "nbformat_minor": 0,
  "metadata": {
    "colab": {
      "name": "Day_3_task_2.ipynb",
      "provenance": [],
      "collapsed_sections": [],
      "authorship_tag": "ABX9TyOzyJ2gCygvMfbNZgnV4QQj",
      "include_colab_link": true
    },
    "kernelspec": {
      "name": "python3",
      "display_name": "Python 3"
    },
    "language_info": {
      "name": "python"
    }
  },
  "cells": [
    {
      "cell_type": "markdown",
      "metadata": {
        "id": "view-in-github",
        "colab_type": "text"
      },
      "source": [
        "<a href=\"https://colab.research.google.com/github/Bochaberii/Group-18-plp-hackathon/blob/main/Day_3_task_2.ipynb\" target=\"_parent\"><img src=\"https://colab.research.google.com/assets/colab-badge.svg\" alt=\"Open In Colab\"/></a>"
      ]
    },
    {
      "cell_type": "code",
      "execution_count": null,
      "metadata": {
        "colab": {
          "base_uri": "https://localhost:8080/"
        },
        "id": "v463h-A5TS4W",
        "outputId": "95e604ad-47db-471b-bc2c-e5224fffc944"
      },
      "outputs": [
        {
          "output_type": "stream",
          "name": "stdout",
          "text": [
            "Hey,i would like to calculate your calories!\n",
            "How many grams of fat consumed? 56\n",
            "How many grams of carbs consumed? 46\n",
            "Calories from fat are:  504\n",
            "Calories from carbs are: 184\n"
          ]
        }
      ],
      "source": [
        "#diet calculation\n",
        "print(\"Hey,i would like to calculate your calories!\")\n",
        "#Asking the user from input\n",
        "fat_grams = int(input(\"How many grams of fat consumed? \"))\n",
        "carb_grams = int(input(\"How many grams of carbs consumed? \"))\n",
        "#Calculating number of calories of fat\n",
        "cal_fat = fat_grams * 9\n",
        "\n",
        "#Calculating number of calories of carbohydrates\n",
        "cal_carbs = carb_grams * 4\n",
        "\n",
        "#Displaying results\n",
        "print(\"Calories from fat are: \", cal_fat)\n",
        "print(\"Calories from carbs are:\" ,cal_carbs)"
      ]
    }
  ]
}